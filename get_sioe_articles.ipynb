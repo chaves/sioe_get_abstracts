{
 "cells": [
  {
   "cell_type": "code",
   "execution_count": null,
   "metadata": {},
   "outputs": [],
   "source": [
    "import selenium\n",
    "from selenium import webdriver\n",
    "from selenium.webdriver.common.keys import Keys\n",
    "from selenium.webdriver.support.wait import WebDriverWait\n",
    "from pymongo import MongoClient\n",
    "client = MongoClient()\n",
    "import pandas as pd\n",
    "import time"
   ]
  },
  {
   "cell_type": "code",
   "execution_count": null,
   "metadata": {},
   "outputs": [],
   "source": [
    "driver = webdriver.Chrome()"
   ]
  },
  {
   "cell_type": "code",
   "execution_count": null,
   "metadata": {},
   "outputs": [],
   "source": [
    "# https://bu.dauphine.psl.eu\n",
    "# Trouver -> Economie\n",
    "# EconLit with Full Text\n",
    "# prenom nom -> Field Author (AU)\n",
    "# Publication Type - Journal Article\n",
    "# 1996 - 2019\n",
    "# recopier le lien sur la première page"
   ]
  },
  {
   "cell_type": "code",
   "execution_count": null,
   "metadata": {},
   "outputs": [],
   "source": [
    "## A changer manuellment à chaque fois\n",
    "AUTHOR_NAME_SIOE = 'MENARD'"
   ]
  },
  {
   "cell_type": "markdown",
   "metadata": {},
   "source": [
    "#### FAIRE LA RECHERCHE CI-DESSUS AVANT d'EXECUTER CI-DESSOUS"
   ]
  },
  {
   "cell_type": "code",
   "execution_count": null,
   "metadata": {},
   "outputs": [],
   "source": [
    "MAIN_URL = driver.current_url"
   ]
  },
  {
   "cell_type": "code",
   "execution_count": null,
   "metadata": {},
   "outputs": [],
   "source": [
    "db = client['sioe_articles']\n",
    "articles = db.sioe_articles"
   ]
  },
  {
   "cell_type": "code",
   "execution_count": null,
   "metadata": {},
   "outputs": [],
   "source": [
    "sanitize_key = lambda x: x.lower().replace(' ', '_').replace(':', '')"
   ]
  },
  {
   "cell_type": "code",
   "execution_count": null,
   "metadata": {},
   "outputs": [],
   "source": [
    "# Détermine le nombre de pages\n",
    "links_to_pages = driver.find_elements_by_xpath('//ul[@class=\"results-paging nav-list\"]/li/a')\n",
    "links_to_pages = [l.text for l in links_to_pages if l.text not in ['Previous', 'Next']]\n",
    "page_max = 1 if len(links_to_pages) == 0 else int(max(links_to_pages))"
   ]
  },
  {
   "cell_type": "code",
   "execution_count": null,
   "metadata": {},
   "outputs": [],
   "source": [
    "# Datas d'un article vers un document JSON\n",
    "def data_to_json(datas):\n",
    "    dict_out = dict()\n",
    "    for d in datas:\n",
    "        key = d[0].text\n",
    "        value = d[1].text\n",
    "        dict_out[key] = value\n",
    "    dict_out['Title'] = dict_out.pop('') # Car pas de label pour le titre\n",
    "    dict_out['Author_SIOE'] = AUTHOR_NAME_SIOE\n",
    "    return dict_out"
   ]
  },
  {
   "cell_type": "code",
   "execution_count": null,
   "metadata": {},
   "outputs": [],
   "source": [
    "# Insère tous les articles d'une page dans MongoDb\n",
    "def insert_data_to_mongo_from_articles_links_in_one_page():\n",
    "    links_articles_page = [l.get_attribute('href') for l in driver.find_elements_by_xpath('//a[@class=\"title-link color-p4\"]')]\n",
    "    for l in links_articles_page:    \n",
    "        driver.get(l)\n",
    "        values = driver.find_elements_by_xpath('//dd[@data-auto=\"citation_field_value\"]')\n",
    "        labels = driver.find_elements_by_xpath('//dt[@data-auto=\"citation_field_label\"]')\n",
    "        datas = list(zip(labels, values))\n",
    "        articles.insert_one(data_to_json(datas))\n",
    "        time.sleep(3)"
   ]
  },
  {
   "cell_type": "markdown",
   "metadata": {},
   "source": [
    "### Exécussion du programme"
   ]
  },
  {
   "cell_type": "code",
   "execution_count": null,
   "metadata": {},
   "outputs": [],
   "source": [
    "# insère la première page\n",
    "insert_data_to_mongo_from_articles_links_in_one_page()\n",
    "# Si plus d'une page, alors insère les pages suivantes\n",
    "if page_max > 1:\n",
    "    for page_nb in range(1, page_max): # la prmière page est à 0, la deuxième à 1, etc.\n",
    "        driver.get(MAIN_URL) # retourne à la page principale\n",
    "        link = 'ctl00_ctl00_MainContentArea_MainContentArea_bottomMultiPage_rptPageLinks_ctl0{}_lnkPageLink'.format(page_nb)\n",
    "        driver.find_element_by_id(link).click() # clique le lien vers la page\n",
    "        insert_data_to_mongo_from_articles_links_in_one_page()"
   ]
  },
  {
   "cell_type": "code",
   "execution_count": null,
   "metadata": {},
   "outputs": [],
   "source": []
  },
  {
   "cell_type": "code",
   "execution_count": null,
   "metadata": {},
   "outputs": [],
   "source": []
  }
 ],
 "metadata": {
  "kernelspec": {
   "display_name": "Python 3",
   "language": "python",
   "name": "python3"
  },
  "language_info": {
   "codemirror_mode": {
    "name": "ipython",
    "version": 3
   },
   "file_extension": ".py",
   "mimetype": "text/x-python",
   "name": "python",
   "nbconvert_exporter": "python",
   "pygments_lexer": "ipython3",
   "version": "3.6.8"
  }
 },
 "nbformat": 4,
 "nbformat_minor": 2
}
